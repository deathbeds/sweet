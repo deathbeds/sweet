{
 "cells": [
  {
   "cell_type": "code",
   "execution_count": 1,
   "metadata": {},
   "outputs": [],
   "source": [
    "    from hypothesis import assume, HealthCheck, Verbosity, settings\n",
    "\n",
    "    from unittest import TestLoader, TestResult, TestSuite, TestCase\n",
    "    from dataclasses import dataclass, field\n",
    "    from functools import partial\n",
    "    doctest = True\n",
    "    unittest = True\n",
    "    loader = TestLoader()"
   ]
  },
  {
   "cell_type": "code",
   "execution_count": 2,
   "metadata": {},
   "outputs": [],
   "source": [
    "    def discover(module='__main__', suite=None, *, doctest=doctest, unittest=unittest, loader=loader):\n",
    "        from doctest import DocTestSuite\n",
    "        if isinstance(module, str): module = __import__('importlib').import_module(module)\n",
    "        if suite is None:\n",
    "            return Sweet(module=module, doctest=doctest, unittest=unittest, loader=loader)    \n",
    "        \n",
    "        for name, object in vars(module).items():\n",
    "            if unittest:\n",
    "                if isinstance(object, type) and issubclass(object, TestCase):\n",
    "                    suite.addTests(loader.loadTestsFromTestCase(object)._tests)\n",
    "                \n",
    "                if callable(object) and not isinstance(object, (partial, type)):\n",
    "                    function_test_case = infer(object)\n",
    "                    if function_test_case:\n",
    "                        suite.addTest(function_test_case)\n",
    "                    \n",
    "        if doctest:\n",
    "            suite.addTests(DocTestSuite(module)._tests)\n",
    "        return suite"
   ]
  },
  {
   "cell_type": "code",
   "execution_count": 3,
   "metadata": {},
   "outputs": [],
   "source": [
    "    def infer(object)->TestCase:\n",
    "        \"\"\"Use the hypothesis inference systems to create automated types from the annotations or ghetto typing.\n",
    "        \n",
    "        \n",
    "        >>> def f(int, b:int): ...\n",
    "        >>> test = infer(f)\n",
    "        \"\"\"\n",
    "        from unittest import FunctionTestCase\n",
    "        from inspect import getfullargspec\n",
    "        from hypothesis import given, strategies as st, find\n",
    "        spec = getfullargspec(object)\n",
    "        annotations = dict(**spec.annotations)\n",
    "        returns = annotations.pop('return', None)\n",
    "        \n",
    "        if not spec.args: return FunctionTestCase(object)\n",
    "        \n",
    "                \n",
    "        if not (spec.defaults or spec.kwonlydefaults):\n",
    "            annotations = {\n",
    "                str: st.from_type(object) if isinstance(object, type) and getattr(object, '__name__', '') != 'object'\n",
    "                else object if isinstance(object, st.SearchStrategy)\n",
    "                else st.one_of(list(map(st.just, object)))\n",
    "                for str, object in annotations.items()\n",
    "            }\n",
    "            if annotations:\n",
    "                return FunctionTestCase(given(**annotations)(object))\n",
    "                \n",
    "                \n",
    "        if (returns is not None) and callable(returns) ^ isinstance(returns, type) and len(annotations) is 1:\n",
    "            return FunctionTestCase(partial(find, *annotations.values(), lambda x: returns(object(x))))"
   ]
  },
  {
   "cell_type": "code",
   "execution_count": 4,
   "metadata": {},
   "outputs": [],
   "source": [
    "    @dataclass\n",
    "    class Sweet(TestSuite):\n",
    "        \"\"\"A TestSuite.\n",
    "        \"\"\"\n",
    "        _tests: list = field(default_factory=list)\n",
    "        module: __import__('types').ModuleType = field(default=__import__('__main__'))\n",
    "        loader: TestLoader = field(default_factory=TestLoader, repr=False)\n",
    "        result: TestResult = field(default_factory=TestResult)\n",
    "        doctest: bool = True\n",
    "        unittest: bool = True\n",
    "        \n",
    "        def __post_init__(Discover): \n",
    "            global doctest, unittest\n",
    "            from importlib import import_module\n",
    "            TestSuite.__init__(Discover)\n",
    "            if isinstance(Discover.module, str): \n",
    "                Discover.module = import_module(Discover.module)\n",
    "            if not Discover._tests:\n",
    "                Discover.discover()  \n",
    "            \n",
    "        def discover(Discover): \n",
    "            return discover(module=Discover.module, suite=Discover, doctest=Discover.doctest, unittest=Discover.unittest)\n",
    "        \n",
    "        def run(Discover, result=None, debug=False):\n",
    "            try: return super().run(result or Discover.result, debug=debug)\n",
    "            except type('Quack', (BaseException,), {}): ...\n",
    "            finally: Discover._tests = list(filter(bool, Discover._tests))"
   ]
  },
  {
   "cell_type": "code",
   "execution_count": 5,
   "metadata": {},
   "outputs": [],
   "source": [
    "    settings.register_profile('ip', settings(\n",
    "            suppress_health_check=(HealthCheck.return_value,),\n",
    "            verbosity=Verbosity.normal,))\n",
    "    \n",
    "    def load_ipython_extension(ip=None):\n",
    "        settings.load_profile('ip')"
   ]
  },
  {
   "cell_type": "code",
   "execution_count": null,
   "metadata": {},
   "outputs": [],
   "source": [
    "    if __name__ == '__main__':\n",
    "        !jupyter nbconvert --to python sweet.ipynb readme.ipynb\n",
    "        \n",
    "        result = Sweet(module='readme').run()\n",
    "        !rm readme.py\n",
    "        print(result)\n",
    "        print(Sweet(module=__name__).run(result))"
   ]
  },
  {
   "cell_type": "code",
   "execution_count": null,
   "metadata": {},
   "outputs": [],
   "source": []
  },
  {
   "cell_type": "code",
   "execution_count": null,
   "metadata": {},
   "outputs": [],
   "source": []
  }
 ],
 "metadata": {
  "kernelspec": {
   "display_name": "p6",
   "language": "python",
   "name": "other-env"
  },
  "language_info": {
   "codemirror_mode": {
    "name": "ipython",
    "version": 3
   },
   "file_extension": ".py",
   "mimetype": "text/x-python",
   "name": "python",
   "nbconvert_exporter": "python",
   "pygments_lexer": "ipython3",
   "version": "3.6.3"
  }
 },
 "nbformat": 4,
 "nbformat_minor": 2
}
