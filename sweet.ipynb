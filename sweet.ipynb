{
 "cells": [
  {
   "cell_type": "code",
   "execution_count": 1,
   "metadata": {},
   "outputs": [],
   "source": [
    "    from hypothesis import assume, HealthCheck, Verbosity, settings\n",
    "\n",
    "    from unittest import TestLoader, TestResult, TestSuite, TestCase\n",
    "    from dataclasses import dataclass, field\n",
    "    from functools import partial\n",
    "    doctest = True\n",
    "    unittest = True\n",
    "    loader = TestLoader()\n",
    "    from types import ModuleType\n",
    "    from ast import NodeTransformer\n",
    "    "
   ]
  },
  {
   "cell_type": "code",
   "execution_count": 2,
   "metadata": {},
   "outputs": [],
   "source": [
    "    def discover(module='__main__', suite=None, *, doctest=doctest, unittest=unittest, loader=loader):\n",
    "        from doctest import DocTestSuite\n",
    "        if isinstance(module, str): module = __import__('importlib').import_module(module)\n",
    "        if suite is None:\n",
    "            return Sweet(module=module, doctest=doctest, unittest=unittest, loader=loader)    \n",
    "        \n",
    "        for name, object in vars(module).items():\n",
    "            if unittest:\n",
    "                if isinstance(object, type) and issubclass(object, TestCase):\n",
    "                    suite.addTests(loader.loadTestsFromTestCase(object)._tests)\n",
    "                \n",
    "                if callable(object) and not isinstance(object, (partial, type)):\n",
    "                    function_test_case = infer(object)\n",
    "                    if function_test_case:\n",
    "                        suite.addTest(function_test_case)\n",
    "                    \n",
    "        if doctest:\n",
    "            suite.addTests(DocTestSuite(module)._tests)\n",
    "        return suite"
   ]
  },
  {
   "cell_type": "code",
   "execution_count": 3,
   "metadata": {},
   "outputs": [],
   "source": [
    "    def infer(object)->TestCase:\n",
    "        \"\"\"Use the hypothesis inference systems to create automated types from the annotations or ghetto typing.\n",
    "        \n",
    "        \n",
    "        >>> def f(int, b:int): ...\n",
    "        >>> test = infer(f)\n",
    "        \"\"\"\n",
    "        from unittest import FunctionTestCase\n",
    "        from inspect import getfullargspec\n",
    "        from hypothesis import given, strategies as st, find\n",
    "        spec = getfullargspec(object)\n",
    "        annotations = dict(**spec.annotations)\n",
    "        returns = annotations.pop('return', None)\n",
    "        \n",
    "        if not spec.args: return FunctionTestCase(object)\n",
    "        \n",
    "                \n",
    "        if not (spec.defaults or spec.kwonlydefaults):\n",
    "            annotations = {\n",
    "                str: st.from_type(object) if isinstance(object, type) and getattr(object, '__name__', '') != 'object'\n",
    "                else object if isinstance(object, st.SearchStrategy)\n",
    "                else st.one_of(list(map(st.just, object)))\n",
    "                for str, object in annotations.items()\n",
    "            }\n",
    "            if annotations:\n",
    "                return FunctionTestCase(given(**annotations)(object))\n",
    "                \n",
    "                \n",
    "        if (returns is not None) and callable(returns) ^ isinstance(returns, type) and len(annotations) is 1:\n",
    "            return FunctionTestCase(partial(find, *annotations.values(), lambda x: returns(object(x))))"
   ]
  },
  {
   "cell_type": "code",
   "execution_count": 4,
   "metadata": {},
   "outputs": [],
   "source": [
    "    class Result(TestResult):\n",
    "        def __repr__(Result, *, str=\"\"\"\"\"\"):\n",
    "            if Result.errors: str += f\"\"\"\\n{dict(Result.errors)}\"\"\"\n",
    "            if Result.failures: str += f\"\"\"\\n{dict(Result.failures)}\"\"\"\n",
    "            return '\\n'.join((super().__repr__(), str)).rstrip()"
   ]
  },
  {
   "cell_type": "code",
   "execution_count": 5,
   "metadata": {},
   "outputs": [],
   "source": [
    "    @dataclass\n",
    "    class Sweet(TestSuite):\n",
    "        \"\"\"A TestSuite.\n",
    "        \"\"\"\n",
    "        _tests: list = field(default_factory=list)\n",
    "        module: __import__('types').ModuleType = field(default=__import__('__main__'))\n",
    "        loader: TestLoader = field(default_factory=TestLoader, repr=False)\n",
    "        result: TestResult = field(default_factory=Result)\n",
    "        doctest: bool = True\n",
    "        unittest: bool = True\n",
    "        \n",
    "        def __post_init__(Discover): \n",
    "            global doctest, unittest\n",
    "            from importlib import import_module\n",
    "            TestSuite.__init__(Discover)\n",
    "            if isinstance(Discover.module, str): \n",
    "                Discover.module = import_module(Discover.module)\n",
    "            if not Discover._tests:\n",
    "                Discover.discover()  \n",
    "            \n",
    "        def discover(Discover): \n",
    "            return discover(module=Discover.module, suite=Discover, doctest=Discover.doctest, unittest=Discover.unittest)\n",
    "        \n",
    "        def run(Discover, result=None, debug=False):\n",
    "            try: return super().run(result or Discover.result, debug=debug)\n",
    "            except type('Quack', (BaseException,), {}): ...\n",
    "            finally: Discover._tests = list(filter(bool, Discover._tests))"
   ]
  },
  {
   "cell_type": "code",
   "execution_count": 6,
   "metadata": {},
   "outputs": [],
   "source": [
    "    settings.register_profile('sweet', settings(\n",
    "            suppress_health_check=(HealthCheck.return_value,),\n",
    "            verbosity=Verbosity.normal,))\n",
    "    \n",
    "    settings.load_profile('sweet')"
   ]
  },
  {
   "cell_type": "code",
   "execution_count": 7,
   "metadata": {},
   "outputs": [],
   "source": [
    "    @dataclass\n",
    "    class Testing(NodeTransformer):\n",
    "        \"\"\"Testing must be callable so it can be using as an {IPython.core.events.EventManager}\n",
    "        >>> assert callable(Testing())\n",
    "        \"\"\"\n",
    "        objects = list()\n",
    "        def visit_FunctionDef(Testing, node): \n",
    "            \"\"\"Identify FunctionDef and ClassDef as potentially testable objects.            \n",
    "            \n",
    "            >>> visitor = Testing()\n",
    "            >>> assert visitor.visit(__import__('ast').parse('def f(): ...'))\n",
    "            >>> assert visitor.objects\n",
    "            \"\"\"\n",
    "            Testing.objects.append(node.name)\n",
    "            return node\n",
    "        \n",
    "        visit_ClassDef = visit_FunctionDef\n",
    "        \n",
    "        def __call__(Testing):\n",
    "            main, module = __import__('__main__'), ModuleType('__interactive')\n",
    "            while Testing.objects:\n",
    "                name = Testing.objects.pop(0)\n",
    "                if hasattr(main, name): setattr(module, name, getattr(main, name))\n",
    "            sweet = Sweet(module=module)\n",
    "            if sweet._tests:\n",
    "                print(repr(sweet.run()))"
   ]
  },
  {
   "cell_type": "code",
   "execution_count": 8,
   "metadata": {},
   "outputs": [],
   "source": [
    "    def unload_ipython_extension(ip=None):\n",
    "            ip = ip or get_ipython()\n",
    "            ip.events.callbacks['post_run_cell'] = [object for object in ip.events.callbacks['post_run_cell'] if not isinstance(object, Testing)]"
   ]
  },
  {
   "cell_type": "code",
   "execution_count": 9,
   "metadata": {},
   "outputs": [],
   "source": [
    "    def load_ipython_extension(ip=get_ipython()):\n",
    "            object = Testing()\n",
    "            ip.ast_transformers.append(object)        \n",
    "            ip.events.register('post_run_cell', object)\n"
   ]
  },
  {
   "cell_type": "code",
   "execution_count": 10,
   "metadata": {},
   "outputs": [
    {
     "name": "stdout",
     "output_type": "stream",
     "text": [
      "[NbConvertApp] Converting notebook sweet.ipynb to python\n",
      "[NbConvertApp] Writing 5803 bytes to sweet.py\n",
      "[NbConvertApp] Converting notebook readme.ipynb to python\n",
      "[NbConvertApp] Writing 997 bytes to readme.py\n",
      "<__main__.Result run=4 errors=0 failures=0>\n",
      "<__main__.Result run=8 errors=0 failures=0>\n"
     ]
    }
   ],
   "source": [
    "    if __name__ == '__main__':\n",
    "        !jupyter nbconvert --to python sweet.ipynb readme.ipynb\n",
    "        result = Sweet(module='readme').run()\n",
    "        !rm readme.py\n",
    "        print(result)\n",
    "        print(Sweet(module=__name__).run(result))\n",
    "        unload_ipython_extension()\n",
    "        load_ipython_extension()"
   ]
  }
 ],
 "metadata": {
  "kernelspec": {
   "display_name": "p6",
   "language": "python",
   "name": "other-env"
  },
  "language_info": {
   "codemirror_mode": {
    "name": "ipython",
    "version": 3
   },
   "file_extension": ".py",
   "mimetype": "text/x-python",
   "name": "python",
   "nbconvert_exporter": "python",
   "pygments_lexer": "ipython3",
   "version": "3.6.3"
  }
 },
 "nbformat": 4,
 "nbformat_minor": 2
}
