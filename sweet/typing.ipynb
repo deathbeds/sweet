{
 "cells": [
  {
   "cell_type": "markdown",
   "metadata": {},
   "source": [
    "dynamically types interactive code.\n",
    "\n",
    "`sweet.typing` uses [Instagram's](https://github.com/Instagram/MonkeyType) to trace function calls\n",
    "in a running Jupyter instance or `__import__('__main__')`.  \n",
    "\n",
    "The original is a [gist](http://nbviewer.jupyter.org/gist/tonyfast/81a14656f82e7aa31044c7fc5b1d4494)."
   ]
  },
  {
   "cell_type": "code",
   "execution_count": 1,
   "metadata": {},
   "outputs": [],
   "source": [
    "    from monkeytype.tracing import CallTraceLogger as Logger, trace_calls\n",
    "    from monkeytype.stubs import build_module_stubs_from_traces\n",
    "    DUNDER = '__%s__'\n",
    "    from pathlib import Path\n",
    "    tracer = None"
   ]
  },
  {
   "cell_type": "code",
   "execution_count": 2,
   "metadata": {},
   "outputs": [],
   "source": [
    "    class Tracer(Logger):\n",
    "        def stubs(logger, modules=None, main=True): \n",
    "            modules = modules or []\n",
    "            if main: \n",
    "                modules += [DUNDER%'main', 'main']\n",
    "            stubs = build_module_stubs_from_traces(logger.data, True)\n",
    "            return '\\n'.join(stubs.get(module).render() for module in modules if stubs.get(module))\n",
    "\n",
    "        def __enter__(Logger): \n",
    "            global __name__\n",
    "            Logger.name = __name__\n",
    "            if __name__ == '__main__':\n",
    "                __name__ = 'main'\n",
    "            Logger.ctx = trace_calls(Logger)\n",
    "            Logger.ctx.__enter__()\n",
    "            return Logger\n",
    "\n",
    "        def __exit__(Logger, *args, **kwargs): \n",
    "            global __name__\n",
    "            __name__ = Logger.name \n",
    "            Logger.ctx.__exit__(*args, **kwargs)    \n",
    "\n",
    "        def __init__(Logger, data=None): \n",
    "            super().__init__()\n",
    "            Logger.data, Logger.traces = None or [], []\n",
    "\n",
    "        def log(Logger, trace): \n",
    "            if trace.func.__module__ in ('__main__', 'main'):\n",
    "                Logger.traces.append(trace)\n",
    "\n",
    "        def flush(Logger): \n",
    "            Logger.traces = Logger.data.extend(Logger.traces) or []"
   ]
  },
  {
   "cell_type": "markdown",
   "metadata": {},
   "source": [
    "# IPython magic."
   ]
  },
  {
   "cell_type": "code",
   "execution_count": 3,
   "metadata": {},
   "outputs": [],
   "source": [
    "    def typing(line, cell=None):\n",
    "        global tracer\n",
    "\n",
    "        if cell:\n",
    "            tracer = Tracer()\n",
    "            tracer.__enter__()\n",
    "            get_ipython().run_cell(cell)\n",
    "\n",
    "        elif not line.strip():\n",
    "            tracer = Tracer()\n",
    "            return tracer.__enter__()\n",
    "\n",
    "        tracer.__exit__(None, None, None)\n",
    "        if all(map('.'.__eq__, line.strip())): print(tracer.stubs())\n",
    "        else: Path(line.strip()).write_text(tracer.stubs())"
   ]
  },
  {
   "cell_type": "code",
   "execution_count": 4,
   "metadata": {},
   "outputs": [],
   "source": [
    "    def load_ipython_extension(ip=__import__('IPython').get_ipython()):\n",
    "        ip.register_magic_function(typing, 'line_cell')\n",
    "\n",
    "    def unload_ipython_extension(ip=__import__('IPython').get_ipython()):\n",
    "        ..."
   ]
  },
  {
   "cell_type": "code",
   "execution_count": 5,
   "metadata": {},
   "outputs": [
    {
     "name": "stdout",
     "output_type": "stream",
     "text": [
      "✅\n",
      "[NbConvertApp] Converting notebook typing.ipynb to python\n",
      "[NbConvertApp] Writing 2770 bytes to typing.py\n"
     ]
    }
   ],
   "source": [
    "    if __name__ == '__main__':\n",
    "        print('✅🚫'[bool(__import__('doctest').testmod().failed)])\n",
    "        !jupyter nbconvert --to python typing.ipynb\n",
    "        load_ipython_extension()\n",
    "    #     !source activate p6 && pytest tests/test_typing.ipynb"
   ]
  },
  {
   "cell_type": "code",
   "execution_count": 6,
   "metadata": {},
   "outputs": [
    {
     "name": "stdout",
     "output_type": "stream",
     "text": [
      "from pandas.core.frame import DataFrame\n",
      "from typing import Union\n",
      "\n",
      "\n",
      "def f(x: Union[float, str, int, DataFrame]) -> str: ...\n"
     ]
    }
   ],
   "source": [
    "    if __name__ == '__main__':\n",
    "        def f(x):\n",
    "            return str(x)\n",
    "        %typing\n",
    "        f(10)\n",
    "        f(10.)\n",
    "        f('asdf')\n",
    "        f(__import__('pandas').util.testing.makeDataFrame())\n",
    "        %typing ."
   ]
  },
  {
   "cell_type": "code",
   "execution_count": null,
   "metadata": {},
   "outputs": [],
   "source": []
  }
 ],
 "metadata": {
  "kernelspec": {
   "display_name": "p6",
   "language": "python",
   "name": "other-env"
  },
  "language_info": {
   "codemirror_mode": {
    "name": "ipython",
    "version": 3
   },
   "file_extension": ".py",
   "mimetype": "text/x-python",
   "name": "python",
   "nbconvert_exporter": "python",
   "pygments_lexer": "ipython3",
   "version": "3.6.3"
  },
  "toc": {
   "colors": {
    "hover_highlight": "#DAA520",
    "running_highlight": "#FF0000",
    "selected_highlight": "#FFD700"
   },
   "moveMenuLeft": true,
   "nav_menu": {
    "height": "121px",
    "width": "250px"
   },
   "navigate_menu": true,
   "number_sections": true,
   "sideBar": true,
   "threshold": 4,
   "toc_cell": false,
   "toc_section_display": "block",
   "toc_window_display": false,
   "widenNotebook": false
  },
  "varInspector": {
   "cols": {
    "lenName": 16,
    "lenType": 16,
    "lenVar": 40
   },
   "kernels_config": {
    "python": {
     "delete_cmd_postfix": "",
     "delete_cmd_prefix": "del ",
     "library": "var_list.py",
     "varRefreshCmd": "print(var_dic_list())"
    },
    "r": {
     "delete_cmd_postfix": ") ",
     "delete_cmd_prefix": "rm(",
     "library": "var_list.r",
     "varRefreshCmd": "cat(var_dic_list()) "
    }
   },
   "types_to_exclude": [
    "module",
    "function",
    "builtin_function_or_method",
    "instance",
    "_Feature"
   ],
   "window_display": false
  }
 },
 "nbformat": 4,
 "nbformat_minor": 2
}
