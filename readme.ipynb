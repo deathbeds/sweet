{
 "cells": [
  {
   "cell_type": "markdown",
   "metadata": {},
   "source": [
    "# testing is __Sweet__\n",
    "    \n",
    "[![Binder](https://mybinder.org/badge.svg)](https://mybinder.org/v2/gh/deathbeds/sweet/master?filepath=readme.ipynb) \n",
    "   \n",
    "__Sweet__ is an easy way to test interactive code. It combines unittest, doctest, and hypothesis to promoting better code health."
   ]
  },
  {
   "cell_type": "code",
   "execution_count": 9,
   "metadata": {},
   "outputs": [],
   "source": [
    "    if __name__ == '__main__':\n",
    "        %reload_ext sweet"
   ]
  },
  {
   "cell_type": "code",
   "execution_count": 12,
   "metadata": {},
   "outputs": [
    {
     "name": "stdout",
     "output_type": "stream",
     "text": [
      "<sweet.Result run=2 errors=0 failures=0>\n"
     ]
    }
   ],
   "source": [
    "    def test_no_params():\n",
    "        \"\"\"This function is tested because it has no parameters.  It is executed using FunctionTestCase\n",
    "\n",
    "        >>> assert True\n",
    "\n",
    "        The docstring is also tested.\n",
    "        \"\"\"\n",
    "        assert True"
   ]
  },
  {
   "cell_type": "code",
   "execution_count": 8,
   "metadata": {},
   "outputs": [],
   "source": [
    "    ct = 0\n",
    "    def when_there_are_annotations(x: int):\n",
    "        global ct\n",
    "        ct +=1\n",
    "        return x"
   ]
  },
  {
   "cell_type": "code",
   "execution_count": 4,
   "metadata": {},
   "outputs": [],
   "source": [
    "    def after_hypothesis():\n",
    "        global ct\n",
    "        assert ct > 0"
   ]
  },
  {
   "cell_type": "code",
   "execution_count": 5,
   "metadata": {},
   "outputs": [
    {
     "name": "stdout",
     "output_type": "stream",
     "text": [
      "[NbConvertApp] Converting notebook readme.ipynb to markdown\n",
      "[NbConvertApp] Writing 1119 bytes to readme.md\n",
      "The readme shows the <sweet.Result run=4 errors=0 failures=0>\n",
      "and the source shows the <sweet.Result run=8 errors=0 failures=0>\n",
      "🏆\n"
     ]
    }
   ],
   "source": [
    "    if __name__ == '__main__':\n",
    "        !jupyter nbconvert --to markdown readme.ipynb\n",
    "        from sweet import Sweet\n",
    "        result = Sweet().run()\n",
    "        print(f\"\"\"The readme shows the {result}\"\"\")\n",
    "        print(f\"\"\"and the source shows the {Sweet(module='sweet').run(result)}\"\"\")\n",
    "        print(\"🏆\")"
   ]
  }
 ],
 "metadata": {
  "kernelspec": {
   "display_name": "p6",
   "language": "python",
   "name": "other-env"
  },
  "language_info": {
   "codemirror_mode": {
    "name": "ipython",
    "version": 3
   },
   "file_extension": ".py",
   "mimetype": "text/x-python",
   "name": "python",
   "nbconvert_exporter": "python",
   "pygments_lexer": "ipython3",
   "version": "3.6.3"
  }
 },
 "nbformat": 4,
 "nbformat_minor": 2
}
