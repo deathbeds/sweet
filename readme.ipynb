{
 "cells": [
  {
   "cell_type": "markdown",
   "metadata": {},
   "source": [
    "# testing is __Sweet__\n",
    "    \n",
    "__Sweet__ is an easy way to test interactive code. It combines unittest, doctest, and hypothesis to promoting better code health."
   ]
  },
  {
   "cell_type": "code",
   "execution_count": 1,
   "metadata": {},
   "outputs": [],
   "source": [
    "    from sweet import Sweet"
   ]
  },
  {
   "cell_type": "code",
   "execution_count": 2,
   "metadata": {},
   "outputs": [],
   "source": [
    "    def test_no_params():\n",
    "        \"\"\"This function is tested because it has no parameters.  It is executed using FunctionTestCase\n",
    "\n",
    "        >>> assert True\n",
    "\n",
    "        The docstring is also tested.\n",
    "        \"\"\"\n",
    "        assert True"
   ]
  },
  {
   "cell_type": "code",
   "execution_count": 3,
   "metadata": {},
   "outputs": [
    {
     "name": "stdout",
     "output_type": "stream",
     "text": [
      "[NbConvertApp] Converting notebook readme.ipynb to markdown\n",
      "[NbConvertApp] Writing 882 bytes to readme.md\n",
      "<unittest.result.TestResult run=2 errors=0 failures=0>\n",
      "<unittest.result.TestResult run=4 errors=0 failures=0>\n"
     ]
    }
   ],
   "source": [
    "    if __name__ == '__main__':\n",
    "        !jupyter nbconvert --to markdown readme.ipynb\n",
    "        result = Sweet().run()\n",
    "        print(result)\n",
    "        print(Sweet(module='sweet').run(result))"
   ]
  },
  {
   "cell_type": "code",
   "execution_count": null,
   "metadata": {},
   "outputs": [],
   "source": []
  }
 ],
 "metadata": {
  "kernelspec": {
   "display_name": "p6",
   "language": "python",
   "name": "other-env"
  },
  "language_info": {
   "codemirror_mode": {
    "name": "ipython",
    "version": 3
   },
   "file_extension": ".py",
   "mimetype": "text/x-python",
   "name": "python",
   "nbconvert_exporter": "python",
   "pygments_lexer": "ipython3",
   "version": "3.6.3"
  }
 },
 "nbformat": 4,
 "nbformat_minor": 2
}
